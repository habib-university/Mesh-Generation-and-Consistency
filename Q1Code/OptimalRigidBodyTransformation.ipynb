{
 "cells": [
  {
   "cell_type": "code",
   "execution_count": 1,
   "metadata": {},
   "outputs": [],
   "source": [
    "import matplotlib.pyplot as plt\n",
    "import numpy as np"
   ]
  },
  {
   "cell_type": "code",
   "execution_count": 78,
   "metadata": {},
   "outputs": [],
   "source": [
    "P = np.array([[1, 2, 1, 2, 1], [3, 3, 2, 2, 1]])\n",
    "Q = np.array([[5, 4, 5, 4, 5], [-1, -2, -2, -3, -3]])"
   ]
  },
  {
   "cell_type": "markdown",
   "metadata": {},
   "source": [
    "Step 1:"
   ]
  },
  {
   "cell_type": "code",
   "execution_count": 79,
   "metadata": {},
   "outputs": [
    {
     "name": "stdout",
     "output_type": "stream",
     "text": [
      "[[1.4]\n",
      " [2.2]]\n"
     ]
    }
   ],
   "source": [
    "w = np.ones(len(P[0]))\n",
    "p = np.zeros((2,1))\n",
    "q = np.zeros((2,1))\n",
    "\n",
    "for i in range(len(w)):\n",
    "    p += (w[i]*P[:,i]).reshape((2,1))\n",
    "    q += (w[i]*Q[:,i]).reshape((2,1))\n",
    "\n",
    "p /= np.sum(w)\n",
    "q /= np.sum(w)\n",
    "print(p)"
   ]
  },
  {
   "cell_type": "markdown",
   "metadata": {},
   "source": [
    "Step 2:"
   ]
  },
  {
   "cell_type": "code",
   "execution_count": 80,
   "metadata": {},
   "outputs": [],
   "source": [
    "A = P - p\n",
    "B = Q - q"
   ]
  },
  {
   "cell_type": "code",
   "execution_count": 81,
   "metadata": {},
   "outputs": [
    {
     "name": "stdout",
     "output_type": "stream",
     "text": [
      "[[-0.4  0.6 -0.4  0.6 -0.4]\n",
      " [ 0.8  0.8 -0.2 -0.2 -1.2]]\n",
      "[[1. 0. 0. 0. 0.]\n",
      " [0. 1. 0. 0. 0.]\n",
      " [0. 0. 1. 0. 0.]\n",
      " [0. 0. 0. 1. 0.]\n",
      " [0. 0. 0. 0. 1.]]\n",
      "[[ 0.4 -0.6  0.4 -0.6  0.4]\n",
      " [ 1.2  0.2  0.2 -0.8 -0.8]]\n"
     ]
    }
   ],
   "source": [
    "print(A)\n",
    "print(np.diag(w))\n",
    "print(B)\n",
    "S = A.dot(np.diag(w)).dot(B.T)"
   ]
  },
  {
   "cell_type": "code",
   "execution_count": 82,
   "metadata": {},
   "outputs": [
    {
     "name": "stdout",
     "output_type": "stream",
     "text": [
      "[[-1.2 -0.6]\n",
      " [-0.6  2.2]]\n"
     ]
    }
   ],
   "source": [
    "print(S)"
   ]
  },
  {
   "cell_type": "code",
   "execution_count": 83,
   "metadata": {},
   "outputs": [],
   "source": [
    "U,Sigma,V = np.linalg.svd(S)"
   ]
  },
  {
   "cell_type": "code",
   "execution_count": 84,
   "metadata": {},
   "outputs": [
    {
     "name": "stdout",
     "output_type": "stream",
     "text": [
      "-0.9999999999999996\n"
     ]
    }
   ],
   "source": [
    "rectifier = np.ones(len(V))\n",
    "print(np.linalg.det(V.dot(U.transpose())))\n",
    "rectifier[-1] = -1\n",
    "R = V.dot(U.T)"
   ]
  },
  {
   "cell_type": "code",
   "execution_count": 85,
   "metadata": {},
   "outputs": [
    {
     "name": "stdout",
     "output_type": "stream",
     "text": [
      "[[ 1.00000000e+00  1.62479773e-16]\n",
      " [ 1.58064980e-16 -1.00000000e+00]]\n"
     ]
    }
   ],
   "source": [
    "print(R)"
   ]
  },
  {
   "cell_type": "code",
   "execution_count": 86,
   "metadata": {},
   "outputs": [],
   "source": [
    "t = q - R.dot(p)"
   ]
  },
  {
   "cell_type": "code",
   "execution_count": 87,
   "metadata": {},
   "outputs": [
    {
     "name": "stdout",
     "output_type": "stream",
     "text": [
      "[[ 1.4]\n",
      " [-2.2]]\n",
      "[[ 4.6]\n",
      " [-2.2]]\n"
     ]
    }
   ],
   "source": [
    "print(R.dot(p))\n",
    "print(q)"
   ]
  },
  {
   "cell_type": "code",
   "execution_count": 88,
   "metadata": {},
   "outputs": [
    {
     "name": "stdout",
     "output_type": "stream",
     "text": [
      "[[ 1.  2.  1.  2.  1.]\n",
      " [-3. -3. -2. -2. -1.]]\n"
     ]
    }
   ],
   "source": [
    "print((R.dot(P)))"
   ]
  },
  {
   "cell_type": "code",
   "execution_count": 89,
   "metadata": {},
   "outputs": [
    {
     "data": {
      "image/png": "[encoded data removed]",
      "text/plain": [
       "<Figure size 432x288 with 1 Axes>"
      ]
     },
     "metadata": {
      "needs_background": "light"
     },
     "output_type": "display_data"
    }
   ],
   "source": [
    "plt.scatter(x=P[0], y=P[1])\n",
    "plt.scatter(x=p[0], y=p[1])\n",
    "plt.scatter(x=Q[0], y=Q[1])\n",
    "plt.scatter(x=q[0], y=q[1])\n",
    "plt.scatter(x=(R.dot(P))[0], y=(R.dot(P))[1])\n",
    "plt.scatter(x=(R.dot(p))[0], y=(R.dot(p))[1])\n",
    "plt.show()"
   ]
  },
  {
   "cell_type": "code",
   "execution_count": null,
   "metadata": {},
   "outputs": [],
   "source": []
  },
  {
   "cell_type": "code",
   "execution_count": null,
   "metadata": {},
   "outputs": [],
   "source": []
  }
 ],
 "metadata": {
  "kernelspec": {
   "display_name": "Python 3",
   "language": "python",
   "name": "python3"
  },
  "language_info": {
   "codemirror_mode": {
    "name": "ipython",
    "version": 3
   },
   "file_extension": ".py",
   "mimetype": "text/x-python",
   "name": "python",
   "nbconvert_exporter": "python",
   "pygments_lexer": "ipython3",
   "version": "3.7.4"
  }
 },
 "nbformat": 4,
 "nbformat_minor": 2
}
